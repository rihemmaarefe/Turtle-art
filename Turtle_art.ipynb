{
  "nbformat": 4,
  "nbformat_minor": 0,
  "metadata": {
    "colab": {
      "provenance": [],
      "authorship_tag": "ABX9TyPy+zQoTRFmpW1iiGpaygs8",
      "include_colab_link": true
    },
    "kernelspec": {
      "name": "python3",
      "display_name": "Python 3"
    },
    "language_info": {
      "name": "python"
    }
  },
  "cells": [
    {
      "cell_type": "markdown",
      "metadata": {
        "id": "view-in-github",
        "colab_type": "text"
      },
      "source": [
        "<a href=\"https://colab.research.google.com/github/rihemmaarefe/Turtle-art/blob/main/Turtle_art.ipynb\" target=\"_parent\"><img src=\"https://colab.research.google.com/assets/colab-badge.svg\" alt=\"Open In Colab\"/></a>"
      ]
    },
    {
      "cell_type": "code",
      "execution_count": null,
      "metadata": {
        "id": "--i_-N8Ovd53"
      },
      "outputs": [],
      "source": [
        "import turtle\n",
        "\n",
        "# create the turtle\n",
        "t = turtle.Turtle()\n",
        "\n",
        "# set the turtle speed and color\n",
        "t.speed(0)\n",
        "t.color(\"blue\", \"green\")\n",
        "\n",
        "# create a square function\n",
        "def square(size):\n",
        "    for i in range(4):\n",
        "        t.forward(size)\n",
        "        t.left(90)\n",
        "\n",
        "# create a recursive circle function\n",
        "def circle(size):\n",
        "    if size <= 10:\n",
        "        return\n",
        "    else:\n",
        "        t.circle(size)\n",
        "        circle(size*0.75)\n",
        "\n",
        "# draw a square pattern\n",
        "for i in range(36):\n",
        "    square(100)\n",
        "    t.left(10)\n",
        "\n",
        "# move the turtle to a new position\n",
        "t.penup()\n",
        "t.goto(-200, 0)\n",
        "t.pendown()\n",
        "\n",
        "# draw a circle pattern\n",
        "for i in range(10):\n",
        "    circle(200)\n",
        "    t.left(36)\n",
        "\n",
        "# save the image\n",
        "turtle.getcanvas().postscript(file=\"turtle_art.eps\")\n"
      ]
    },
    {
      "cell_type": "markdown",
      "source": [
        "In this program, we create a Turtle object and set its speed and color.\n",
        "\n",
        "We define a function square(size) that draws a square with the given size, and a recursive function circle(size) that draws a circle and then calls itself with a smaller size until the size is less than or equal to 10.\n",
        "\n",
        "We then use a loop to draw a pattern of squares, rotating the turtle by 10 degrees between each square. After that, we move the turtle to a new position and draw a pattern of circles, rotating the turtle by 36 degrees between each circle.\n",
        "\n",
        "Finally, we allow the user to save the image using the getcanvas().postscript() function.\n",
        "\n",
        "You can customize this code further by modifying the square() and circle() functions to draw different shapes or patterns, or by adding more drawing functions and combining them into more complex designs."
      ],
      "metadata": {
        "id": "HrNy6uYrvl-R"
      }
    }
  ]
}